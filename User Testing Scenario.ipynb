{
 "cells": [
  {
   "cell_type": "markdown",
   "metadata": {},
   "source": [
    "### User Testing Scenario: ML Prediction Tool for Depression Diagnosis Using NLP\n"
   ]
  },
  {
   "cell_type": "markdown",
   "metadata": {},
   "source": [
    "#### Objective\n",
    "To assess the usability, accuracy, and clinical relevance of an ML-based NLP tool that predicts the likelihood of depression based on patient-provided text data, using different interpretable machine learning models to enhance user trust."
   ]
  },
  {
   "cell_type": "markdown",
   "metadata": {},
   "source": [
    "#### Participants\n",
    "\n",
    "Primary Users: Mental health professionals, including psychologists, psychiatrists, and general practitioners."
   ]
  },
  {
   "cell_type": "markdown",
   "metadata": {},
   "source": [
    "#### Prediction Task\n",
    "The prediction task is identifying the likelihood of depression in patients based on textual data from anonymized patient interview transcripts."
   ]
  },
  {
   "cell_type": "markdown",
   "metadata": {},
   "source": [
    "#### Scenario Overview\n",
    "Participants will use an online platform to process anonymized transcripts of patient interviews, uploaded as anonymized patient text data. Using an ML model trained on prior data, the tool will process this test data, analyzing language patterns associated with depressive symptoms. Participants will work with different interpretable ML models (IML), each providing insights to help clinicians understand the basis of each prediction. They will then assess their trust in the ML model’s results based on these insights and determine which IML model best explained the prediction and enhanced their trust in it."
   ]
  },
  {
   "cell_type": "markdown",
   "metadata": {},
   "source": [
    "#### First End Users Requirements Interview\n",
    "\n",
    "##### User Context\n",
    "You will have access to a system that analyzes clinical interview transcripts to determine whether a patient is likely to have depression. The interviews include open-ended questions exploring how a patient feels, what makes them happy or angry, whether they experience troubling thoughts, and what their best qualities are, among other topics.\n",
    "\n",
    "Based on this scenario, where the system predicts the likelihood of depression based on the transcript of an interview, please answer the following questions:\n",
    "\n",
    "1. Visualization Preferences:\n",
    "\n",
    "- What types of visualizations would help you better understand the model's response? Examples include:\n",
    "\n",
    "    - Word clouds\n",
    "\n",
    "    - Heat maps\n",
    "\n",
    "    - Frequency graphs of specific variables extracted from the transcript\n",
    "\n",
    "2. Insight into Language Patterns:\n",
    "\n",
    "-   Would you like the system to highlight language patterns associated with depressive symptoms? For instance, would seeing key words or expressions, or annotated summaries of the transcripts, be useful?\n",
    "\n",
    "3. Prediction Output:\n",
    "\n",
    "- How would you prefer the system to present the prediction results? Options include:\n",
    "    - Binary responses: Simple \"YES\" or \"NO\"\n",
    "    - Probability-based responses: For example, \"This patient has an XX% probability of being diagnosed with depression.\"\n",
    "\n",
    "4. Explanation of Predictions:\n",
    "\n",
    "-   Would you find it helpful to have more detailed information about how the prediction was made? For example, should the system display which variables or features from the interview were most influential in the prediction?"
   ]
  }
 ],
 "metadata": {
  "language_info": {
   "name": "python"
  }
 },
 "nbformat": 4,
 "nbformat_minor": 2
}
