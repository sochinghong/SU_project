{
 "cells": [
  {
   "cell_type": "code",
   "execution_count": 1,
   "metadata": {},
   "outputs": [],
   "source": [
    "import pandas as pd\n",
    "import os\n",
    "import numpy as np"
   ]
  },
  {
   "attachments": {},
   "cell_type": "markdown",
   "metadata": {},
   "source": [
    "# data- preprocessing"
   ]
  },
  {
   "cell_type": "code",
   "execution_count": 7,
   "metadata": {},
   "outputs": [
    {
     "ename": "FileNotFoundError",
     "evalue": "[Errno 2] No such file or directory: '../text'",
     "output_type": "error",
     "traceback": [
      "\u001b[0;31m---------------------------------------------------------------------------\u001b[0m",
      "\u001b[0;31mFileNotFoundError\u001b[0m                         Traceback (most recent call last)",
      "\u001b[0;32m<ipython-input-7-63f51b6ae167>\u001b[0m in \u001b[0;36m<module>\u001b[0;34m\u001b[0m\n\u001b[1;32m      1\u001b[0m \u001b[0;31m# Define the directory containing your CSV files\u001b[0m\u001b[0;34m\u001b[0m\u001b[0;34m\u001b[0m\u001b[0;34m\u001b[0m\u001b[0m\n\u001b[0;32m----> 2\u001b[0;31m \u001b[0;32mwith\u001b[0m \u001b[0mopen\u001b[0m\u001b[0;34m(\u001b[0m\u001b[0;34m'../text'\u001b[0m\u001b[0;34m,\u001b[0m \u001b[0;34m'r'\u001b[0m\u001b[0;34m)\u001b[0m \u001b[0;32mas\u001b[0m \u001b[0mfile\u001b[0m\u001b[0;34m:\u001b[0m\u001b[0;34m\u001b[0m\u001b[0;34m\u001b[0m\u001b[0m\n\u001b[0m\u001b[1;32m      3\u001b[0m     \u001b[0mdirectory\u001b[0m \u001b[0;34m=\u001b[0m \u001b[0mfile\u001b[0m\u001b[0;34m.\u001b[0m\u001b[0mread\u001b[0m\u001b[0;34m(\u001b[0m\u001b[0;34m)\u001b[0m\u001b[0;34m\u001b[0m\u001b[0;34m\u001b[0m\u001b[0m\n\u001b[1;32m      4\u001b[0m \u001b[0;34m\u001b[0m\u001b[0m\n\u001b[1;32m      5\u001b[0m \u001b[0mdata\u001b[0m \u001b[0;34m=\u001b[0m \u001b[0;34m[\u001b[0m\u001b[0;34m]\u001b[0m\u001b[0;34m\u001b[0m\u001b[0;34m\u001b[0m\u001b[0m\n",
      "\u001b[0;31mFileNotFoundError\u001b[0m: [Errno 2] No such file or directory: '../text'"
     ]
    }
   ],
   "source": [
    "# Define the directory containing your CSV files\n",
    "# place the link to the text file here\n",
    "directory = '/Users/martinso/Desktop/LST/HS-KI/Year 2/research trend/text'\n",
    "\n",
    "data = []\n",
    "\n",
    "# Loop through all files in the directory\n",
    "for filename in os.listdir(directory):\n",
    "    if filename.endswith('.csv'):\n",
    "        # Construct the full file path\n",
    "        file_path = os.path.join(directory, filename)\n",
    "        \n",
    "        # Read the CSV file\n",
    "        df = pd.read_csv(file_path)\n",
    "\n",
    "        # Initialize a list to store each row's text as a list of words\n",
    "        texts = []\n",
    "\n",
    "        # Loop through each row in the DataFrame\n",
    "        for index, row in df.iterrows():\n",
    "            # Check for NaN and add text to the list after splitting into words\n",
    "            if pd.notna(row['Text']):\n",
    "                # Split the text into words and append the list of words\n",
    "                texts.append(row['Text'].split())\n",
    "\n",
    "        # Append the filename (without extension) and the list of texts to the data list\n",
    "        data.append([os.path.splitext(filename)[0], texts])\n",
    "\n",
    "# Create a DataFrame from the collected data\n",
    "df_combined = pd.DataFrame(data, columns=['File Name', 'Text Data'])\n",
    "\n",
    "# Define the path for the output Excel file\n",
    "#output_file_path = os.path.join(directory, 'aggregated_texts_by-sentence.xlsx')\n",
    "\n",
    "# Save the DataFrame to Excel\n",
    "#df_combined.to_excel(output_file_path, index=False)\n",
    "\n",
    "\n",
    "#print(\"All files have been processed and output to 'aggregated_texts.csv'.\")"
   ]
  },
  {
   "cell_type": "code",
   "execution_count": 7,
   "metadata": {},
   "outputs": [
    {
     "data": {
      "text/html": [
       "<div>\n",
       "<style scoped>\n",
       "    .dataframe tbody tr th:only-of-type {\n",
       "        vertical-align: middle;\n",
       "    }\n",
       "\n",
       "    .dataframe tbody tr th {\n",
       "        vertical-align: top;\n",
       "    }\n",
       "\n",
       "    .dataframe thead th {\n",
       "        text-align: right;\n",
       "    }\n",
       "</style>\n",
       "<table border=\"1\" class=\"dataframe\">\n",
       "  <thead>\n",
       "    <tr style=\"text-align: right;\">\n",
       "      <th></th>\n",
       "      <th>File Name</th>\n",
       "      <th>Text Data</th>\n",
       "    </tr>\n",
       "  </thead>\n",
       "  <tbody>\n",
       "    <tr>\n",
       "      <th>0</th>\n",
       "      <td>369_Transcript</td>\n",
       "      <td>[[okay, awesome, thank, you], [are, you, okay,...</td>\n",
       "    </tr>\n",
       "    <tr>\n",
       "      <th>1</th>\n",
       "      <td>423_Transcript</td>\n",
       "      <td>[[okay], [and, please], [yes], [feeling, well]...</td>\n",
       "    </tr>\n",
       "    <tr>\n",
       "      <th>2</th>\n",
       "      <td>436_Transcript</td>\n",
       "      <td>[[that, was, big], [yes], [I'm, doing, fine], ...</td>\n",
       "    </tr>\n",
       "    <tr>\n",
       "      <th>3</th>\n",
       "      <td>318_Transcript</td>\n",
       "      <td>[[all, right], [okay], [oh, actually, before, ...</td>\n",
       "    </tr>\n",
       "    <tr>\n",
       "      <th>4</th>\n",
       "      <td>447_Transcript</td>\n",
       "      <td>[[yeah, that's, perfectly, fine], [I'm, feelin...</td>\n",
       "    </tr>\n",
       "  </tbody>\n",
       "</table>\n",
       "</div>"
      ],
      "text/plain": [
       "        File Name                                          Text Data\n",
       "0  369_Transcript  [[okay, awesome, thank, you], [are, you, okay,...\n",
       "1  423_Transcript  [[okay], [and, please], [yes], [feeling, well]...\n",
       "2  436_Transcript  [[that, was, big], [yes], [I'm, doing, fine], ...\n",
       "3  318_Transcript  [[all, right], [okay], [oh, actually, before, ...\n",
       "4  447_Transcript  [[yeah, that's, perfectly, fine], [I'm, feelin..."
      ]
     },
     "execution_count": 7,
     "metadata": {},
     "output_type": "execute_result"
    }
   ],
   "source": [
    "df_combined.head()"
   ]
  },
  {
   "cell_type": "code",
   "execution_count": 8,
   "metadata": {},
   "outputs": [],
   "source": [
    "df_combined.rename(columns={'File Name': 'Name'}, inplace=True)\n",
    "df_combined['Name'] = df_combined['Name'].str.replace('_Transcript', '')\n",
    "df_combined['Name']=df_combined['Name'].astype(int)"
   ]
  },
  {
   "cell_type": "code",
   "execution_count": 9,
   "metadata": {},
   "outputs": [
    {
     "data": {
      "text/html": [
       "<div>\n",
       "<style scoped>\n",
       "    .dataframe tbody tr th:only-of-type {\n",
       "        vertical-align: middle;\n",
       "    }\n",
       "\n",
       "    .dataframe tbody tr th {\n",
       "        vertical-align: top;\n",
       "    }\n",
       "\n",
       "    .dataframe thead th {\n",
       "        text-align: right;\n",
       "    }\n",
       "</style>\n",
       "<table border=\"1\" class=\"dataframe\">\n",
       "  <thead>\n",
       "    <tr style=\"text-align: right;\">\n",
       "      <th></th>\n",
       "      <th>Name</th>\n",
       "      <th>Text Data</th>\n",
       "    </tr>\n",
       "  </thead>\n",
       "  <tbody>\n",
       "    <tr>\n",
       "      <th>0</th>\n",
       "      <td>369</td>\n",
       "      <td>[[okay, awesome, thank, you], [are, you, okay,...</td>\n",
       "    </tr>\n",
       "    <tr>\n",
       "      <th>1</th>\n",
       "      <td>423</td>\n",
       "      <td>[[okay], [and, please], [yes], [feeling, well]...</td>\n",
       "    </tr>\n",
       "    <tr>\n",
       "      <th>2</th>\n",
       "      <td>436</td>\n",
       "      <td>[[that, was, big], [yes], [I'm, doing, fine], ...</td>\n",
       "    </tr>\n",
       "    <tr>\n",
       "      <th>3</th>\n",
       "      <td>318</td>\n",
       "      <td>[[all, right], [okay], [oh, actually, before, ...</td>\n",
       "    </tr>\n",
       "    <tr>\n",
       "      <th>4</th>\n",
       "      <td>447</td>\n",
       "      <td>[[yeah, that's, perfectly, fine], [I'm, feelin...</td>\n",
       "    </tr>\n",
       "  </tbody>\n",
       "</table>\n",
       "</div>"
      ],
      "text/plain": [
       "   Name                                          Text Data\n",
       "0   369  [[okay, awesome, thank, you], [are, you, okay,...\n",
       "1   423  [[okay], [and, please], [yes], [feeling, well]...\n",
       "2   436  [[that, was, big], [yes], [I'm, doing, fine], ...\n",
       "3   318  [[all, right], [okay], [oh, actually, before, ...\n",
       "4   447  [[yeah, that's, perfectly, fine], [I'm, feelin..."
      ]
     },
     "execution_count": 9,
     "metadata": {},
     "output_type": "execute_result"
    }
   ],
   "source": [
    "df_combined.head()"
   ]
  },
  {
   "cell_type": "code",
   "execution_count": 3,
   "metadata": {},
   "outputs": [],
   "source": [
    "df = pd.read_csv('label_daic_extend - label_daic_extend.csv')\n",
    "df.head()\n",
    "df_filtered = df[['Participant_ID','depression']]"
   ]
  },
  {
   "cell_type": "code",
   "execution_count": 11,
   "metadata": {},
   "outputs": [],
   "source": [
    "depression_map = df_filtered.set_index('Participant_ID')['depression']\n",
    "\n",
    "df_combined['depression'] = df_combined['Name'].map(depression_map)\n",
    "\n",
    "\n"
   ]
  },
  {
   "cell_type": "code",
   "execution_count": 12,
   "metadata": {},
   "outputs": [
    {
     "data": {
      "text/html": [
       "<div>\n",
       "<style scoped>\n",
       "    .dataframe tbody tr th:only-of-type {\n",
       "        vertical-align: middle;\n",
       "    }\n",
       "\n",
       "    .dataframe tbody tr th {\n",
       "        vertical-align: top;\n",
       "    }\n",
       "\n",
       "    .dataframe thead th {\n",
       "        text-align: right;\n",
       "    }\n",
       "</style>\n",
       "<table border=\"1\" class=\"dataframe\">\n",
       "  <thead>\n",
       "    <tr style=\"text-align: right;\">\n",
       "      <th></th>\n",
       "      <th>Name</th>\n",
       "      <th>Text Data</th>\n",
       "      <th>depression</th>\n",
       "    </tr>\n",
       "  </thead>\n",
       "  <tbody>\n",
       "    <tr>\n",
       "      <th>0</th>\n",
       "      <td>369</td>\n",
       "      <td>[[okay, awesome, thank, you], [are, you, okay,...</td>\n",
       "      <td>0</td>\n",
       "    </tr>\n",
       "    <tr>\n",
       "      <th>1</th>\n",
       "      <td>423</td>\n",
       "      <td>[[okay], [and, please], [yes], [feeling, well]...</td>\n",
       "      <td>0</td>\n",
       "    </tr>\n",
       "    <tr>\n",
       "      <th>2</th>\n",
       "      <td>436</td>\n",
       "      <td>[[that, was, big], [yes], [I'm, doing, fine], ...</td>\n",
       "      <td>0</td>\n",
       "    </tr>\n",
       "    <tr>\n",
       "      <th>3</th>\n",
       "      <td>318</td>\n",
       "      <td>[[all, right], [okay], [oh, actually, before, ...</td>\n",
       "      <td>0</td>\n",
       "    </tr>\n",
       "    <tr>\n",
       "      <th>4</th>\n",
       "      <td>447</td>\n",
       "      <td>[[yeah, that's, perfectly, fine], [I'm, feelin...</td>\n",
       "      <td>0</td>\n",
       "    </tr>\n",
       "    <tr>\n",
       "      <th>...</th>\n",
       "      <td>...</td>\n",
       "      <td>...</td>\n",
       "      <td>...</td>\n",
       "    </tr>\n",
       "    <tr>\n",
       "      <th>214</th>\n",
       "      <td>484</td>\n",
       "      <td>[[okay], [yes], [I'm, doing, well], [I, was, b...</td>\n",
       "      <td>0</td>\n",
       "    </tr>\n",
       "    <tr>\n",
       "      <th>215</th>\n",
       "      <td>491</td>\n",
       "      <td>[[do, I, still, have, to, put, my, cat], [okay...</td>\n",
       "      <td>0</td>\n",
       "    </tr>\n",
       "    <tr>\n",
       "      <th>216</th>\n",
       "      <td>340</td>\n",
       "      <td>[[bring, up, a, virtual, human, that, you're, ...</td>\n",
       "      <td>0</td>\n",
       "    </tr>\n",
       "    <tr>\n",
       "      <th>217</th>\n",
       "      <td>355</td>\n",
       "      <td>[[yes], [alright], [I, was, born, in, Los, Ang...</td>\n",
       "      <td>1</td>\n",
       "    </tr>\n",
       "    <tr>\n",
       "      <th>218</th>\n",
       "      <td>657</td>\n",
       "      <td>[[go, ahead, and, start, a, camcorder, recordi...</td>\n",
       "      <td>0</td>\n",
       "    </tr>\n",
       "  </tbody>\n",
       "</table>\n",
       "<p>219 rows × 3 columns</p>\n",
       "</div>"
      ],
      "text/plain": [
       "     Name                                          Text Data  depression\n",
       "0     369  [[okay, awesome, thank, you], [are, you, okay,...           0\n",
       "1     423  [[okay], [and, please], [yes], [feeling, well]...           0\n",
       "2     436  [[that, was, big], [yes], [I'm, doing, fine], ...           0\n",
       "3     318  [[all, right], [okay], [oh, actually, before, ...           0\n",
       "4     447  [[yeah, that's, perfectly, fine], [I'm, feelin...           0\n",
       "..    ...                                                ...         ...\n",
       "214   484  [[okay], [yes], [I'm, doing, well], [I, was, b...           0\n",
       "215   491  [[do, I, still, have, to, put, my, cat], [okay...           0\n",
       "216   340  [[bring, up, a, virtual, human, that, you're, ...           0\n",
       "217   355  [[yes], [alright], [I, was, born, in, Los, Ang...           1\n",
       "218   657  [[go, ahead, and, start, a, camcorder, recordi...           0\n",
       "\n",
       "[219 rows x 3 columns]"
      ]
     },
     "execution_count": 12,
     "metadata": {},
     "output_type": "execute_result"
    }
   ],
   "source": [
    "df_combined"
   ]
  },
  {
   "attachments": {},
   "cell_type": "markdown",
   "metadata": {},
   "source": [
    "Here i try to calculate the percentage of interviewee with depression"
   ]
  },
  {
   "cell_type": "code",
   "execution_count": 13,
   "metadata": {},
   "outputs": [
    {
     "name": "stdout",
     "output_type": "stream",
     "text": [
      "the percentage of patient with depression is: 29.680365296803654%\n"
     ]
    }
   ],
   "source": [
    "neg, pos = df_combined['depression'].value_counts()\n",
    "\n",
    "percentage = pos *100 / (neg + pos)\n",
    "print(f\"the percentage of patient with depression is: {percentage}%\")\n"
   ]
  },
  {
   "attachments": {},
   "cell_type": "markdown",
   "metadata": {},
   "source": [
    "It seem like there is a imbalanced class in the data, we should take account of that when we try to build up the ML model."
   ]
  },
  {
   "cell_type": "code",
   "execution_count": 14,
   "metadata": {},
   "outputs": [],
   "source": [
    "df_combined['lengths of speech'] = df_combined['Text Data'].apply(lambda x: [len(lst) for lst in x])\n",
    "# Count the number of inner lists in each cell and create a new column\n",
    "df_combined['frequency of speech'] = df_combined['Text Data'].apply(len)"
   ]
  },
  {
   "cell_type": "code",
   "execution_count": 15,
   "metadata": {},
   "outputs": [
    {
     "data": {
      "text/html": [
       "<div>\n",
       "<style scoped>\n",
       "    .dataframe tbody tr th:only-of-type {\n",
       "        vertical-align: middle;\n",
       "    }\n",
       "\n",
       "    .dataframe tbody tr th {\n",
       "        vertical-align: top;\n",
       "    }\n",
       "\n",
       "    .dataframe thead th {\n",
       "        text-align: right;\n",
       "    }\n",
       "</style>\n",
       "<table border=\"1\" class=\"dataframe\">\n",
       "  <thead>\n",
       "    <tr style=\"text-align: right;\">\n",
       "      <th></th>\n",
       "      <th>Name</th>\n",
       "      <th>Text Data</th>\n",
       "      <th>depression</th>\n",
       "      <th>lengths of speech</th>\n",
       "      <th>frequency of speech</th>\n",
       "    </tr>\n",
       "  </thead>\n",
       "  <tbody>\n",
       "    <tr>\n",
       "      <th>0</th>\n",
       "      <td>369</td>\n",
       "      <td>[[okay, awesome, thank, you], [are, you, okay,...</td>\n",
       "      <td>0</td>\n",
       "      <td>[4, 6, 12, 1, 20, 6, 65, 1, 78, 51, 14, 47, 1,...</td>\n",
       "      <td>61</td>\n",
       "    </tr>\n",
       "    <tr>\n",
       "      <th>1</th>\n",
       "      <td>423</td>\n",
       "      <td>[[okay], [and, please], [yes], [feeling, well]...</td>\n",
       "      <td>0</td>\n",
       "      <td>[1, 2, 1, 2, 12, 1, 2, 4, 2, 3, 3, 6, 10, 9, 1...</td>\n",
       "      <td>112</td>\n",
       "    </tr>\n",
       "    <tr>\n",
       "      <th>2</th>\n",
       "      <td>436</td>\n",
       "      <td>[[that, was, big], [yes], [I'm, doing, fine], ...</td>\n",
       "      <td>0</td>\n",
       "      <td>[3, 1, 3, 1, 7, 11, 24, 14, 29, 14, 10, 13, 5,...</td>\n",
       "      <td>56</td>\n",
       "    </tr>\n",
       "    <tr>\n",
       "      <th>3</th>\n",
       "      <td>318</td>\n",
       "      <td>[[all, right], [okay], [oh, actually, before, ...</td>\n",
       "      <td>0</td>\n",
       "      <td>[2, 1, 14, 3, 1, 3, 3, 9, 5, 5, 11, 15, 1, 1, ...</td>\n",
       "      <td>48</td>\n",
       "    </tr>\n",
       "    <tr>\n",
       "      <th>4</th>\n",
       "      <td>447</td>\n",
       "      <td>[[yeah, that's, perfectly, fine], [I'm, feelin...</td>\n",
       "      <td>0</td>\n",
       "      <td>[4, 11, 7, 17, 12, 14, 14, 15, 85, 1, 17, 6, 3...</td>\n",
       "      <td>61</td>\n",
       "    </tr>\n",
       "  </tbody>\n",
       "</table>\n",
       "</div>"
      ],
      "text/plain": [
       "   Name                                          Text Data  depression  \\\n",
       "0   369  [[okay, awesome, thank, you], [are, you, okay,...           0   \n",
       "1   423  [[okay], [and, please], [yes], [feeling, well]...           0   \n",
       "2   436  [[that, was, big], [yes], [I'm, doing, fine], ...           0   \n",
       "3   318  [[all, right], [okay], [oh, actually, before, ...           0   \n",
       "4   447  [[yeah, that's, perfectly, fine], [I'm, feelin...           0   \n",
       "\n",
       "                                   lengths of speech  frequency of speech  \n",
       "0  [4, 6, 12, 1, 20, 6, 65, 1, 78, 51, 14, 47, 1,...                   61  \n",
       "1  [1, 2, 1, 2, 12, 1, 2, 4, 2, 3, 3, 6, 10, 9, 1...                  112  \n",
       "2  [3, 1, 3, 1, 7, 11, 24, 14, 29, 14, 10, 13, 5,...                   56  \n",
       "3  [2, 1, 14, 3, 1, 3, 3, 9, 5, 5, 11, 15, 1, 1, ...                   48  \n",
       "4  [4, 11, 7, 17, 12, 14, 14, 15, 85, 1, 17, 6, 3...                   61  "
      ]
     },
     "execution_count": 15,
     "metadata": {},
     "output_type": "execute_result"
    }
   ],
   "source": [
    "df_combined.head()"
   ]
  },
  {
   "attachments": {},
   "cell_type": "markdown",
   "metadata": {},
   "source": [
    "Here i try to calculate the frequency of interviewees speak in the interview and the length of their sppech per times"
   ]
  },
  {
   "cell_type": "code",
   "execution_count": 16,
   "metadata": {},
   "outputs": [],
   "source": [
    "def calculate_mean(lengths):\n",
    "    if len(lengths) > 0:  # Check if the list is not empty to avoid division by zero\n",
    "        return sum(lengths) / len(lengths)\n",
    "    else:\n",
    "        return None\n",
    "    \n",
    "df_combined['mean length of speech'] = df_combined['lengths of speech'].apply(calculate_mean)"
   ]
  },
  {
   "cell_type": "code",
   "execution_count": 17,
   "metadata": {},
   "outputs": [
    {
     "name": "stdout",
     "output_type": "stream",
     "text": [
      "            frequency of speech  mean length of speech\n",
      "depression                                            \n",
      "0                     88.642857              15.954897\n",
      "1                    105.553846              14.008058\n"
     ]
    }
   ],
   "source": [
    "mean_values = df_combined.groupby('depression')[['frequency of speech', 'mean length of speech']].mean()\n",
    "\n",
    "print(mean_values)"
   ]
  },
  {
   "attachments": {},
   "cell_type": "markdown",
   "metadata": {},
   "source": [
    "There is a significant difference in frequency of speech"
   ]
  },
  {
   "cell_type": "code",
   "execution_count": 18,
   "metadata": {},
   "outputs": [],
   "source": [
    "def flatten_text(row):\n",
    "    # This will flatten the list of lists found in 'Text Data' for a row\n",
    "    flattened = [item for sublist in row['Text Data'] for item in sublist]\n",
    "    return flattened  # Returning the flattened list directly\n",
    "\n",
    "# Apply this function and create a new column\n",
    "df_combined['flattened text'] = df_combined.apply(flatten_text, axis=1)\n"
   ]
  },
  {
   "cell_type": "code",
   "execution_count": 19,
   "metadata": {},
   "outputs": [
    {
     "data": {
      "text/html": [
       "<div>\n",
       "<style scoped>\n",
       "    .dataframe tbody tr th:only-of-type {\n",
       "        vertical-align: middle;\n",
       "    }\n",
       "\n",
       "    .dataframe tbody tr th {\n",
       "        vertical-align: top;\n",
       "    }\n",
       "\n",
       "    .dataframe thead th {\n",
       "        text-align: right;\n",
       "    }\n",
       "</style>\n",
       "<table border=\"1\" class=\"dataframe\">\n",
       "  <thead>\n",
       "    <tr style=\"text-align: right;\">\n",
       "      <th></th>\n",
       "      <th>Name</th>\n",
       "      <th>Text Data</th>\n",
       "      <th>depression</th>\n",
       "      <th>lengths of speech</th>\n",
       "      <th>frequency of speech</th>\n",
       "      <th>mean length of speech</th>\n",
       "      <th>flattened text</th>\n",
       "    </tr>\n",
       "  </thead>\n",
       "  <tbody>\n",
       "    <tr>\n",
       "      <th>0</th>\n",
       "      <td>369</td>\n",
       "      <td>[[okay, awesome, thank, you], [are, you, okay,...</td>\n",
       "      <td>0</td>\n",
       "      <td>[4, 6, 12, 1, 20, 6, 65, 1, 78, 51, 14, 47, 1,...</td>\n",
       "      <td>61</td>\n",
       "      <td>34.213115</td>\n",
       "      <td>[okay, awesome, thank, you, are, you, okay, wi...</td>\n",
       "    </tr>\n",
       "    <tr>\n",
       "      <th>1</th>\n",
       "      <td>423</td>\n",
       "      <td>[[okay], [and, please], [yes], [feeling, well]...</td>\n",
       "      <td>0</td>\n",
       "      <td>[1, 2, 1, 2, 12, 1, 2, 4, 2, 3, 3, 6, 10, 9, 1...</td>\n",
       "      <td>112</td>\n",
       "      <td>9.732143</td>\n",
       "      <td>[okay, and, please, yes, feeling, well, where,...</td>\n",
       "    </tr>\n",
       "    <tr>\n",
       "      <th>2</th>\n",
       "      <td>436</td>\n",
       "      <td>[[that, was, big], [yes], [I'm, doing, fine], ...</td>\n",
       "      <td>0</td>\n",
       "      <td>[3, 1, 3, 1, 7, 11, 24, 14, 29, 14, 10, 13, 5,...</td>\n",
       "      <td>56</td>\n",
       "      <td>23.250000</td>\n",
       "      <td>[that, was, big, yes, I'm, doing, fine, Mexico...</td>\n",
       "    </tr>\n",
       "    <tr>\n",
       "      <th>3</th>\n",
       "      <td>318</td>\n",
       "      <td>[[all, right], [okay], [oh, actually, before, ...</td>\n",
       "      <td>0</td>\n",
       "      <td>[2, 1, 14, 3, 1, 3, 3, 9, 5, 5, 11, 15, 1, 1, ...</td>\n",
       "      <td>48</td>\n",
       "      <td>14.062500</td>\n",
       "      <td>[all, right, okay, oh, actually, before, that,...</td>\n",
       "    </tr>\n",
       "    <tr>\n",
       "      <th>4</th>\n",
       "      <td>447</td>\n",
       "      <td>[[yeah, that's, perfectly, fine], [I'm, feelin...</td>\n",
       "      <td>0</td>\n",
       "      <td>[4, 11, 7, 17, 12, 14, 14, 15, 85, 1, 17, 6, 3...</td>\n",
       "      <td>61</td>\n",
       "      <td>20.590164</td>\n",
       "      <td>[yeah, that's, perfectly, fine, I'm, feeling, ...</td>\n",
       "    </tr>\n",
       "  </tbody>\n",
       "</table>\n",
       "</div>"
      ],
      "text/plain": [
       "   Name                                          Text Data  depression  \\\n",
       "0   369  [[okay, awesome, thank, you], [are, you, okay,...           0   \n",
       "1   423  [[okay], [and, please], [yes], [feeling, well]...           0   \n",
       "2   436  [[that, was, big], [yes], [I'm, doing, fine], ...           0   \n",
       "3   318  [[all, right], [okay], [oh, actually, before, ...           0   \n",
       "4   447  [[yeah, that's, perfectly, fine], [I'm, feelin...           0   \n",
       "\n",
       "                                   lengths of speech  frequency of speech  \\\n",
       "0  [4, 6, 12, 1, 20, 6, 65, 1, 78, 51, 14, 47, 1,...                   61   \n",
       "1  [1, 2, 1, 2, 12, 1, 2, 4, 2, 3, 3, 6, 10, 9, 1...                  112   \n",
       "2  [3, 1, 3, 1, 7, 11, 24, 14, 29, 14, 10, 13, 5,...                   56   \n",
       "3  [2, 1, 14, 3, 1, 3, 3, 9, 5, 5, 11, 15, 1, 1, ...                   48   \n",
       "4  [4, 11, 7, 17, 12, 14, 14, 15, 85, 1, 17, 6, 3...                   61   \n",
       "\n",
       "   mean length of speech                                     flattened text  \n",
       "0              34.213115  [okay, awesome, thank, you, are, you, okay, wi...  \n",
       "1               9.732143  [okay, and, please, yes, feeling, well, where,...  \n",
       "2              23.250000  [that, was, big, yes, I'm, doing, fine, Mexico...  \n",
       "3              14.062500  [all, right, okay, oh, actually, before, that,...  \n",
       "4              20.590164  [yeah, that's, perfectly, fine, I'm, feeling, ...  "
      ]
     },
     "execution_count": 19,
     "metadata": {},
     "output_type": "execute_result"
    }
   ],
   "source": [
    "df_combined.head()"
   ]
  },
  {
   "cell_type": "code",
   "execution_count": 20,
   "metadata": {},
   "outputs": [],
   "source": [
    "def mean_word_length(words):\n",
    "    if not words:  # Check if the list is empty\n",
    "        return 0\n",
    "    return sum(len(word) for word in words) / len(words)\n",
    "\n",
    "# Apply the function to calculate the mean word length for each row\n",
    "df_combined['mean_word_length'] = df_combined['flattened text'].apply(mean_word_length)"
   ]
  },
  {
   "cell_type": "code",
   "execution_count": 21,
   "metadata": {},
   "outputs": [
    {
     "data": {
      "text/html": [
       "<div>\n",
       "<style scoped>\n",
       "    .dataframe tbody tr th:only-of-type {\n",
       "        vertical-align: middle;\n",
       "    }\n",
       "\n",
       "    .dataframe tbody tr th {\n",
       "        vertical-align: top;\n",
       "    }\n",
       "\n",
       "    .dataframe thead th {\n",
       "        text-align: right;\n",
       "    }\n",
       "</style>\n",
       "<table border=\"1\" class=\"dataframe\">\n",
       "  <thead>\n",
       "    <tr style=\"text-align: right;\">\n",
       "      <th></th>\n",
       "      <th>Name</th>\n",
       "      <th>Text Data</th>\n",
       "      <th>depression</th>\n",
       "      <th>lengths of speech</th>\n",
       "      <th>frequency of speech</th>\n",
       "      <th>mean length of speech</th>\n",
       "      <th>flattened text</th>\n",
       "      <th>mean_word_length</th>\n",
       "    </tr>\n",
       "  </thead>\n",
       "  <tbody>\n",
       "    <tr>\n",
       "      <th>0</th>\n",
       "      <td>369</td>\n",
       "      <td>[[okay, awesome, thank, you], [are, you, okay,...</td>\n",
       "      <td>0</td>\n",
       "      <td>[4, 6, 12, 1, 20, 6, 65, 1, 78, 51, 14, 47, 1,...</td>\n",
       "      <td>61</td>\n",
       "      <td>34.213115</td>\n",
       "      <td>[okay, awesome, thank, you, are, you, okay, wi...</td>\n",
       "      <td>3.849545</td>\n",
       "    </tr>\n",
       "    <tr>\n",
       "      <th>1</th>\n",
       "      <td>423</td>\n",
       "      <td>[[okay], [and, please], [yes], [feeling, well]...</td>\n",
       "      <td>0</td>\n",
       "      <td>[1, 2, 1, 2, 12, 1, 2, 4, 2, 3, 3, 6, 10, 9, 1...</td>\n",
       "      <td>112</td>\n",
       "      <td>9.732143</td>\n",
       "      <td>[okay, and, please, yes, feeling, well, where,...</td>\n",
       "      <td>4.326606</td>\n",
       "    </tr>\n",
       "    <tr>\n",
       "      <th>2</th>\n",
       "      <td>436</td>\n",
       "      <td>[[that, was, big], [yes], [I'm, doing, fine], ...</td>\n",
       "      <td>0</td>\n",
       "      <td>[3, 1, 3, 1, 7, 11, 24, 14, 29, 14, 10, 13, 5,...</td>\n",
       "      <td>56</td>\n",
       "      <td>23.250000</td>\n",
       "      <td>[that, was, big, yes, I'm, doing, fine, Mexico...</td>\n",
       "      <td>4.010753</td>\n",
       "    </tr>\n",
       "    <tr>\n",
       "      <th>3</th>\n",
       "      <td>318</td>\n",
       "      <td>[[all, right], [okay], [oh, actually, before, ...</td>\n",
       "      <td>0</td>\n",
       "      <td>[2, 1, 14, 3, 1, 3, 3, 9, 5, 5, 11, 15, 1, 1, ...</td>\n",
       "      <td>48</td>\n",
       "      <td>14.062500</td>\n",
       "      <td>[all, right, okay, oh, actually, before, that,...</td>\n",
       "      <td>3.961481</td>\n",
       "    </tr>\n",
       "    <tr>\n",
       "      <th>4</th>\n",
       "      <td>447</td>\n",
       "      <td>[[yeah, that's, perfectly, fine], [I'm, feelin...</td>\n",
       "      <td>0</td>\n",
       "      <td>[4, 11, 7, 17, 12, 14, 14, 15, 85, 1, 17, 6, 3...</td>\n",
       "      <td>61</td>\n",
       "      <td>20.590164</td>\n",
       "      <td>[yeah, that's, perfectly, fine, I'm, feeling, ...</td>\n",
       "      <td>4.042197</td>\n",
       "    </tr>\n",
       "  </tbody>\n",
       "</table>\n",
       "</div>"
      ],
      "text/plain": [
       "   Name                                          Text Data  depression  \\\n",
       "0   369  [[okay, awesome, thank, you], [are, you, okay,...           0   \n",
       "1   423  [[okay], [and, please], [yes], [feeling, well]...           0   \n",
       "2   436  [[that, was, big], [yes], [I'm, doing, fine], ...           0   \n",
       "3   318  [[all, right], [okay], [oh, actually, before, ...           0   \n",
       "4   447  [[yeah, that's, perfectly, fine], [I'm, feelin...           0   \n",
       "\n",
       "                                   lengths of speech  frequency of speech  \\\n",
       "0  [4, 6, 12, 1, 20, 6, 65, 1, 78, 51, 14, 47, 1,...                   61   \n",
       "1  [1, 2, 1, 2, 12, 1, 2, 4, 2, 3, 3, 6, 10, 9, 1...                  112   \n",
       "2  [3, 1, 3, 1, 7, 11, 24, 14, 29, 14, 10, 13, 5,...                   56   \n",
       "3  [2, 1, 14, 3, 1, 3, 3, 9, 5, 5, 11, 15, 1, 1, ...                   48   \n",
       "4  [4, 11, 7, 17, 12, 14, 14, 15, 85, 1, 17, 6, 3...                   61   \n",
       "\n",
       "   mean length of speech                                     flattened text  \\\n",
       "0              34.213115  [okay, awesome, thank, you, are, you, okay, wi...   \n",
       "1               9.732143  [okay, and, please, yes, feeling, well, where,...   \n",
       "2              23.250000  [that, was, big, yes, I'm, doing, fine, Mexico...   \n",
       "3              14.062500  [all, right, okay, oh, actually, before, that,...   \n",
       "4              20.590164  [yeah, that's, perfectly, fine, I'm, feeling, ...   \n",
       "\n",
       "   mean_word_length  \n",
       "0          3.849545  \n",
       "1          4.326606  \n",
       "2          4.010753  \n",
       "3          3.961481  \n",
       "4          4.042197  "
      ]
     },
     "execution_count": 21,
     "metadata": {},
     "output_type": "execute_result"
    }
   ],
   "source": [
    "df_combined.head()"
   ]
  },
  {
   "cell_type": "code",
   "execution_count": 22,
   "metadata": {},
   "outputs": [],
   "source": [
    "import matplotlib.pyplot as plt\n",
    "import seaborn as sns\n",
    "import pandas as pd\n",
    "\n",
    "# Assuming df_combined is already defined and includes the necessary columns\n",
    "# Convert 'depression' to a categorical type if it's not already\n",
    "df_combined['depression'] = df_combined['depression'].astype('category')\n",
    "\n",
    "def visualize(col):\n",
    "    # Set up the figure and axes\n",
    "    fig, axes = plt.subplots(1, 2, figsize=(12, 6))  # figsize can be adjusted based on your display preferences\n",
    "\n",
    "    # First plot: Boxplot\n",
    "    sns.boxplot(ax=axes[0], y=df_combined[col], x=df_combined['depression'],hue=df_combined['depression'])\n",
    "    axes[0].set_ylabel(col, labelpad=12.5)\n",
    "    axes[0].set_xlabel('Depression')\n",
    "    \n",
    "    # Second plot: KDE Plot\n",
    "    sns.kdeplot(ax=axes[1], x=df_combined[col], hue=df_combined['depression'], common_norm=False)\n",
    "    plt.legend(title='Depression', labels=df_combined['depression'].cat.categories)\n",
    "    axes[1].set_xlabel('')\n",
    "    axes[1].set_ylabel('')\n",
    "\n",
    "    plt.tight_layout()\n",
    "    plt.show()\n",
    "\n",
    "# Example usage\n",
    "# visualize('mean_word_length')  # replace 'mean_word_length' with the actual column name you want to plot\n"
   ]
  },
  {
   "cell_type": "code",
   "execution_count": 23,
   "metadata": {},
   "outputs": [
    {
     "data": {
      "image/png": "[encoded data removed]",
      "text/plain": [
       "<Figure size 864x432 with 2 Axes>"
      ]
     },
     "metadata": {
      "needs_background": "light"
     },
     "output_type": "display_data"
    },
    {
     "data": {
      "image/png": "[encoded data removed]",
      "text/plain": [
       "<Figure size 864x432 with 2 Axes>"
      ]
     },
     "metadata": {
      "needs_background": "light"
     },
     "output_type": "display_data"
    },
    {
     "data": {
      "image/png": "[encoded data removed]",
      "text/plain": [
       "<Figure size 864x432 with 2 Axes>"
      ]
     },
     "metadata": {
      "needs_background": "light"
     },
     "output_type": "display_data"
    }
   ],
   "source": [
    "features = ['frequency of speech','mean length of speech','mean_word_length']\n",
    "for feature in features:\n",
    "    visualize(feature)"
   ]
  },
  {
   "attachments": {},
   "cell_type": "markdown",
   "metadata": {},
   "source": [
    "Further analysis of the speech of interviewees, it seem like there is a higher chance for interviewee with depression to have a shorter pseech per times."
   ]
  },
  {
   "attachments": {},
   "cell_type": "markdown",
   "metadata": {},
   "source": [
    "In the following I will try to normalise the text, and shopw the importance of normalisation "
   ]
  },
  {
   "cell_type": "code",
   "execution_count": 37,
   "metadata": {},
   "outputs": [
    {
     "name": "stdout",
     "output_type": "stream",
     "text": [
      "[\"many's\", \"you'll\", \"Joey's\", \"Alzheimer's\", \"i've\", \"wife's\", \"wouldn't\", \"nurse's\", \"What's\", \"how'd\", \"boyfriend's\", \"master's\", \"Asperger's\", \"Chili's\", \"Museum's\", \"she'd\", \"that'll\", \"dog's\", \"Happy's\", \"girl's\", \"it's\", \"Father's\", \"people's\", \"thing's\", \"everyone's\", \"Bennigan's\", \"Bill's\", \"LA's\", \"God's\", \"I'm\", \"grandmother's\", \"y'alls\", \"Brett's\", \"Simon's\", \"husband's\", \"Lowe's\", \"castaneda's\", \"body's\", \"what's\", \"didn't\", \"area's\", \"friend's\", \"McDonald's\", \"he's\", \"momma's\", \"Square's\", \"Wendy's\", \"Bachelor's\", \"nothing's\", \"Eddie's\", \"ma'am\", \"somebody's\", \"cat's\", \"they've\", \"everybody's\", \"Scoma's\", \"Lord's\", \"who's\", \"Sophie's\", \"neighborhood's\", \"I've\", \"Esmeralda's\", \"we're\", \"stepfather's\", \"dad's\", \"That's\", \"Frank's\", \"Year's\", \"Workman's\", \"you'd\", \"you're\", \"bachelor's\", \"hasn't\", \"she's\", \"that's\", \"He's\", \"family's\", \"kid's\", \"uncle's\", \"associate's\", \"something's\", \"mother's\", \"Daughter's\", \"sister's\", \"woman's\", \"mama's\", \"mine's\", \"night's\", \"Tennessee's\", \"Musician's\", \"don't\", \"You're\", \"son's\", \"Papa's\", \"doctor's\", \"here's\", \"today's\", \"let's\", \"women's\", \"Sandy's\", \"money's\", \"traffic's\", \"law's\", \"Ernie's\", \"filmmaker's\", \"that'd\", \"Department's\", \"everything's\", \"he'd\", \"city's\", \"where's\", \"nobody's\", \"how's\", \"mom's\", \"isn't\", \"daughter's\", \"jango's\", \"sheriff's\", \"else's\", \"back's\", \"who've\", \"she'll\", \"y'all\", \"we'd\", \"Morocco's\", \"Rubik's\", \"JCPenney's\", \"aren't\", \"workman's\", \"cousin's\", \"they'll\", \"guy's\", \"Oggi's\", \"Grauman's\", \"Robinson's\", \"baby's\", \"won't\", \"Master's\", \"there's\", \"father's\", \"we'll\", \"It's\", \"Mom's\", \"couldn't\", \"Hold'em\", \"hour's\", \"I'll\", \"Mother's\", \"person's\", \"doesn't\", \"mind's\", \"brother's\", \"She's\", \"Ellie's\", \"they're\", \"Mexico's\", \"Walker's\", \"wasn't\", \"can't\", \"heart's\", \"party's\", \"he'll\", \"nephew's\", \"Mel's\", \"Let's\", \"s'more\", \"ain't\", \"Life's\", \"school's\", \"life's\", \"Japan's\", \"one's\", \"someone's\", \"other's\", \"Fisherman's\", \"when's\", \"who'd\", \"I'd\", \"Oklahoma's\", \"hadn't\", \"day's\", \"haven't\", \"President's\", \"you've\", \"T's\", \"girlfriend's\", \"Kelly's\", \"children's\", \"Django's\", \"it'd\", \"church's\", \"pilot's\", \"we've\", \"Won't\", \"A's\", \"Murphy's\", \"Alma's\", \"it'll\", \"shouldn't\", \"Don't\", \"whatever's\", \"weather's\", \"I'ma\", \"weren't\", \"buddhism's\", \"Domino's\", \"Dean's\"]\n"
     ]
    }
   ],
   "source": [
    "import pandas as pd\n",
    "import re\n",
    "\n",
    "def find_apostrophe_words(text_list):\n",
    "    # Regex pattern to find words with apostrophes\n",
    "    pattern = r\"\\b\\w+'(?:\\w+|t)\\b|\\B'\\w+\\b\"\n",
    "    apo_terms = []  # Initialize an empty list to collect all terms\n",
    "    for item in text_list:\n",
    "        # Find all matches and extend them to the apo_terms list\n",
    "        apo_terms.extend(re.findall(pattern, item))\n",
    "    return apo_terms\n",
    "\n",
    "# Assuming df_combined['flattened text'] contains lists of strings\n",
    "all_words_with_apostrophes = [word for text in df_combined['flattened text'].dropna() for word in find_apostrophe_words(text)]\n",
    "\n",
    "# Convert list to a set to remove duplicates, then back to list to print or use further\n",
    "unique_words_with_apostrophes = list(set(all_words_with_apostrophes))\n",
    "\n",
    "# Print unique words\n",
    "print(unique_words_with_apostrophes)"
   ]
  },
  {
   "cell_type": "code",
   "execution_count": 34,
   "metadata": {},
   "outputs": [],
   "source": [
    "from nltk.tokenize import TreebankWordTokenizer\n",
    "\n",
    "tokenizer = TreebankWordTokenizer()\n",
    "\n",
    "def tokenize_and_flatten(text_list):\n",
    "    tokenized_list = [tokenizer.tokenize(word) for word in text_list]\n",
    "    # Flatten the list of lists into a single list\n",
    "    flat_list = [item for sublist in tokenized_list for item in sublist]\n",
    "    return flat_list\n",
    "\n",
    "# Apply the tokenizer to the 'flattened text' column and store the results in a new column\n",
    "df_combined['tokenized_text'] = df_combined['flattened text'].apply(tokenize_and_flatten)\n",
    "\n"
   ]
  },
  {
   "cell_type": "code",
   "execution_count": 35,
   "metadata": {},
   "outputs": [
    {
     "data": {
      "text/html": [
       "<div>\n",
       "<style scoped>\n",
       "    .dataframe tbody tr th:only-of-type {\n",
       "        vertical-align: middle;\n",
       "    }\n",
       "\n",
       "    .dataframe tbody tr th {\n",
       "        vertical-align: top;\n",
       "    }\n",
       "\n",
       "    .dataframe thead th {\n",
       "        text-align: right;\n",
       "    }\n",
       "</style>\n",
       "<table border=\"1\" class=\"dataframe\">\n",
       "  <thead>\n",
       "    <tr style=\"text-align: right;\">\n",
       "      <th></th>\n",
       "      <th>Name</th>\n",
       "      <th>Text Data</th>\n",
       "      <th>depression</th>\n",
       "      <th>lengths of speech</th>\n",
       "      <th>frequency of speech</th>\n",
       "      <th>mean length of speech</th>\n",
       "      <th>flattened text</th>\n",
       "      <th>mean_word_length</th>\n",
       "      <th>tokenized_text</th>\n",
       "    </tr>\n",
       "  </thead>\n",
       "  <tbody>\n",
       "    <tr>\n",
       "      <th>0</th>\n",
       "      <td>369</td>\n",
       "      <td>[[okay, awesome, thank, you], [are, you, okay,...</td>\n",
       "      <td>0</td>\n",
       "      <td>[4, 6, 12, 1, 20, 6, 65, 1, 78, 51, 14, 47, 1,...</td>\n",
       "      <td>61</td>\n",
       "      <td>34.213115</td>\n",
       "      <td>[okay, awesome, thank, you, are, you, okay, wi...</td>\n",
       "      <td>3.849545</td>\n",
       "      <td>[okay, awesome, thank, you, are, you, okay, wi...</td>\n",
       "    </tr>\n",
       "    <tr>\n",
       "      <th>1</th>\n",
       "      <td>423</td>\n",
       "      <td>[[okay], [and, please], [yes], [feeling, well]...</td>\n",
       "      <td>0</td>\n",
       "      <td>[1, 2, 1, 2, 12, 1, 2, 4, 2, 3, 3, 6, 10, 9, 1...</td>\n",
       "      <td>112</td>\n",
       "      <td>9.732143</td>\n",
       "      <td>[okay, and, please, yes, feeling, well, where,...</td>\n",
       "      <td>4.326606</td>\n",
       "      <td>[okay, and, please, yes, feeling, well, where,...</td>\n",
       "    </tr>\n",
       "    <tr>\n",
       "      <th>2</th>\n",
       "      <td>436</td>\n",
       "      <td>[[that, was, big], [yes], [I'm, doing, fine], ...</td>\n",
       "      <td>0</td>\n",
       "      <td>[3, 1, 3, 1, 7, 11, 24, 14, 29, 14, 10, 13, 5,...</td>\n",
       "      <td>56</td>\n",
       "      <td>23.250000</td>\n",
       "      <td>[that, was, big, yes, I'm, doing, fine, Mexico...</td>\n",
       "      <td>4.010753</td>\n",
       "      <td>[that, was, big, yes, I, 'm, doing, fine, Mexi...</td>\n",
       "    </tr>\n",
       "    <tr>\n",
       "      <th>3</th>\n",
       "      <td>318</td>\n",
       "      <td>[[all, right], [okay], [oh, actually, before, ...</td>\n",
       "      <td>0</td>\n",
       "      <td>[2, 1, 14, 3, 1, 3, 3, 9, 5, 5, 11, 15, 1, 1, ...</td>\n",
       "      <td>48</td>\n",
       "      <td>14.062500</td>\n",
       "      <td>[all, right, okay, oh, actually, before, that,...</td>\n",
       "      <td>3.961481</td>\n",
       "      <td>[all, right, okay, oh, actually, before, that,...</td>\n",
       "    </tr>\n",
       "    <tr>\n",
       "      <th>4</th>\n",
       "      <td>447</td>\n",
       "      <td>[[yeah, that's, perfectly, fine], [I'm, feelin...</td>\n",
       "      <td>0</td>\n",
       "      <td>[4, 11, 7, 17, 12, 14, 14, 15, 85, 1, 17, 6, 3...</td>\n",
       "      <td>61</td>\n",
       "      <td>20.590164</td>\n",
       "      <td>[yeah, that's, perfectly, fine, I'm, feeling, ...</td>\n",
       "      <td>4.042197</td>\n",
       "      <td>[yeah, that, 's, perfectly, fine, I, 'm, feeli...</td>\n",
       "    </tr>\n",
       "  </tbody>\n",
       "</table>\n",
       "</div>"
      ],
      "text/plain": [
       "   Name                                          Text Data depression  \\\n",
       "0   369  [[okay, awesome, thank, you], [are, you, okay,...          0   \n",
       "1   423  [[okay], [and, please], [yes], [feeling, well]...          0   \n",
       "2   436  [[that, was, big], [yes], [I'm, doing, fine], ...          0   \n",
       "3   318  [[all, right], [okay], [oh, actually, before, ...          0   \n",
       "4   447  [[yeah, that's, perfectly, fine], [I'm, feelin...          0   \n",
       "\n",
       "                                   lengths of speech  frequency of speech  \\\n",
       "0  [4, 6, 12, 1, 20, 6, 65, 1, 78, 51, 14, 47, 1,...                   61   \n",
       "1  [1, 2, 1, 2, 12, 1, 2, 4, 2, 3, 3, 6, 10, 9, 1...                  112   \n",
       "2  [3, 1, 3, 1, 7, 11, 24, 14, 29, 14, 10, 13, 5,...                   56   \n",
       "3  [2, 1, 14, 3, 1, 3, 3, 9, 5, 5, 11, 15, 1, 1, ...                   48   \n",
       "4  [4, 11, 7, 17, 12, 14, 14, 15, 85, 1, 17, 6, 3...                   61   \n",
       "\n",
       "   mean length of speech                                     flattened text  \\\n",
       "0              34.213115  [okay, awesome, thank, you, are, you, okay, wi...   \n",
       "1               9.732143  [okay, and, please, yes, feeling, well, where,...   \n",
       "2              23.250000  [that, was, big, yes, I'm, doing, fine, Mexico...   \n",
       "3              14.062500  [all, right, okay, oh, actually, before, that,...   \n",
       "4              20.590164  [yeah, that's, perfectly, fine, I'm, feeling, ...   \n",
       "\n",
       "   mean_word_length                                     tokenized_text  \n",
       "0          3.849545  [okay, awesome, thank, you, are, you, okay, wi...  \n",
       "1          4.326606  [okay, and, please, yes, feeling, well, where,...  \n",
       "2          4.010753  [that, was, big, yes, I, 'm, doing, fine, Mexi...  \n",
       "3          3.961481  [all, right, okay, oh, actually, before, that,...  \n",
       "4          4.042197  [yeah, that, 's, perfectly, fine, I, 'm, feeli...  "
      ]
     },
     "execution_count": 35,
     "metadata": {},
     "output_type": "execute_result"
    }
   ],
   "source": [
    "df_combined.head()"
   ]
  },
  {
   "cell_type": "code",
   "execution_count": 38,
   "metadata": {},
   "outputs": [
    {
     "name": "stdout",
     "output_type": "stream",
     "text": [
      "[\"'s\", \"n't\", \"'m\", \"'d\", \"'ve\", \"s'more\", \"Hold'em\", \"y'alls\", \"I'ma\", \"'ll\", \"ma'am\", \"'re\", \"y'all\"]\n"
     ]
    }
   ],
   "source": [
    "all_words_with_apostrophes = [word for text in df_combined['tokenized_text'].dropna() for word in find_apostrophe_words(text)]\n",
    "\n",
    "# Convert list to a set to remove duplicates, then back to list to print or use further\n",
    "unique_words_with_apostrophes = list(set(all_words_with_apostrophes))\n",
    "\n",
    "# Print unique words\n",
    "print(unique_words_with_apostrophes)"
   ]
  },
  {
   "cell_type": "code",
   "execution_count": 26,
   "metadata": {},
   "outputs": [],
   "source": [
    "import nltk\n",
    "from nltk.corpus import stopwords\n",
    "import re\n",
    "\n",
    "\n",
    "stop=set(stopwords.words('english'))"
   ]
  },
  {
   "cell_type": "code",
   "execution_count": 42,
   "metadata": {},
   "outputs": [],
   "source": [
    "contractions_dict = {\n",
    "    \"'s\": \"is\",     # depending on context, can also be 'has' or possessive marker\n",
    "    \"n't\": \"not\",\n",
    "    \"'m\": \"am\",\n",
    "    \"'d\": \"would\",  # can also mean \"had\" depending on context\n",
    "    \"'ve\": \"have\",\n",
    "    \"s'more\": \"some more\" ,\n",
    "    \"Hold'em\": \"hold them\",\n",
    "    \"y'alls\": \"you alls\",\n",
    "    \"I'ma\": \"I am going to\",\n",
    "    \"'ll\": \"will\",\n",
    "    \"ma'am\": \"madam\",\n",
    "    \"'re\": \"are\",\n",
    "    \"y'all\": \"you all\"\n",
    "}\n",
    "\n",
    "import pandas as pd\n",
    "\n",
    "# Assume 'df_combined' is your DataFrame and contractions_dict is defined as provided\n",
    "\n",
    "def expand_contractions(tokens, contractions_dict):\n",
    "    expanded_tokens = []\n",
    "    for token in tokens:\n",
    "        # Check each token if it's a contraction\n",
    "        if token.lower() in contractions_dict:\n",
    "            # If it is, replace it with the expanded form\n",
    "            expanded_tokens.extend(contractions_dict[token.lower()].split())\n",
    "        else:\n",
    "            # Otherwise, keep the token as is\n",
    "            expanded_tokens.append(token)\n",
    "    return expanded_tokens\n",
    "\n",
    "# Apply this function to each row in the tokenized_text column\n",
    "df_combined['expanded_text'] = df_combined['tokenized_text'].apply(lambda x: expand_contractions(x, contractions_dict))\n",
    "df_combined['expanded_text']  =df_combined['expanded_text'].apply(lambda x: ' '.join(x))\n",
    "df_combined['expanded_text'] = df_combined['expanded_text'].apply(lambda x: x.split())\n",
    "\n"
   ]
  },
  {
   "cell_type": "code",
   "execution_count": 43,
   "metadata": {},
   "outputs": [
    {
     "data": {
      "text/html": [
       "<div>\n",
       "<style scoped>\n",
       "    .dataframe tbody tr th:only-of-type {\n",
       "        vertical-align: middle;\n",
       "    }\n",
       "\n",
       "    .dataframe tbody tr th {\n",
       "        vertical-align: top;\n",
       "    }\n",
       "\n",
       "    .dataframe thead th {\n",
       "        text-align: right;\n",
       "    }\n",
       "</style>\n",
       "<table border=\"1\" class=\"dataframe\">\n",
       "  <thead>\n",
       "    <tr style=\"text-align: right;\">\n",
       "      <th></th>\n",
       "      <th>Name</th>\n",
       "      <th>Text Data</th>\n",
       "      <th>depression</th>\n",
       "      <th>lengths of speech</th>\n",
       "      <th>frequency of speech</th>\n",
       "      <th>mean length of speech</th>\n",
       "      <th>flattened text</th>\n",
       "      <th>mean_word_length</th>\n",
       "      <th>tokenized_text</th>\n",
       "      <th>expanded_text</th>\n",
       "    </tr>\n",
       "  </thead>\n",
       "  <tbody>\n",
       "    <tr>\n",
       "      <th>0</th>\n",
       "      <td>369</td>\n",
       "      <td>[[okay, awesome, thank, you], [are, you, okay,...</td>\n",
       "      <td>0</td>\n",
       "      <td>[4, 6, 12, 1, 20, 6, 65, 1, 78, 51, 14, 47, 1,...</td>\n",
       "      <td>61</td>\n",
       "      <td>34.213115</td>\n",
       "      <td>[okay, awesome, thank, you, are, you, okay, wi...</td>\n",
       "      <td>3.849545</td>\n",
       "      <td>[okay, awesome, thank, you, are, you, okay, wi...</td>\n",
       "      <td>[okay, awesome, thank, you, are, you, okay, wi...</td>\n",
       "    </tr>\n",
       "    <tr>\n",
       "      <th>1</th>\n",
       "      <td>423</td>\n",
       "      <td>[[okay], [and, please], [yes], [feeling, well]...</td>\n",
       "      <td>0</td>\n",
       "      <td>[1, 2, 1, 2, 12, 1, 2, 4, 2, 3, 3, 6, 10, 9, 1...</td>\n",
       "      <td>112</td>\n",
       "      <td>9.732143</td>\n",
       "      <td>[okay, and, please, yes, feeling, well, where,...</td>\n",
       "      <td>4.326606</td>\n",
       "      <td>[okay, and, please, yes, feeling, well, where,...</td>\n",
       "      <td>[okay, and, please, yes, feeling, well, where,...</td>\n",
       "    </tr>\n",
       "    <tr>\n",
       "      <th>2</th>\n",
       "      <td>436</td>\n",
       "      <td>[[that, was, big], [yes], [I'm, doing, fine], ...</td>\n",
       "      <td>0</td>\n",
       "      <td>[3, 1, 3, 1, 7, 11, 24, 14, 29, 14, 10, 13, 5,...</td>\n",
       "      <td>56</td>\n",
       "      <td>23.250000</td>\n",
       "      <td>[that, was, big, yes, I'm, doing, fine, Mexico...</td>\n",
       "      <td>4.010753</td>\n",
       "      <td>[that, was, big, yes, I, 'm, doing, fine, Mexi...</td>\n",
       "      <td>[that, was, big, yes, I, am, doing, fine, Mexi...</td>\n",
       "    </tr>\n",
       "    <tr>\n",
       "      <th>3</th>\n",
       "      <td>318</td>\n",
       "      <td>[[all, right], [okay], [oh, actually, before, ...</td>\n",
       "      <td>0</td>\n",
       "      <td>[2, 1, 14, 3, 1, 3, 3, 9, 5, 5, 11, 15, 1, 1, ...</td>\n",
       "      <td>48</td>\n",
       "      <td>14.062500</td>\n",
       "      <td>[all, right, okay, oh, actually, before, that,...</td>\n",
       "      <td>3.961481</td>\n",
       "      <td>[all, right, okay, oh, actually, before, that,...</td>\n",
       "      <td>[all, right, okay, oh, actually, before, that,...</td>\n",
       "    </tr>\n",
       "    <tr>\n",
       "      <th>4</th>\n",
       "      <td>447</td>\n",
       "      <td>[[yeah, that's, perfectly, fine], [I'm, feelin...</td>\n",
       "      <td>0</td>\n",
       "      <td>[4, 11, 7, 17, 12, 14, 14, 15, 85, 1, 17, 6, 3...</td>\n",
       "      <td>61</td>\n",
       "      <td>20.590164</td>\n",
       "      <td>[yeah, that's, perfectly, fine, I'm, feeling, ...</td>\n",
       "      <td>4.042197</td>\n",
       "      <td>[yeah, that, 's, perfectly, fine, I, 'm, feeli...</td>\n",
       "      <td>[yeah, that, is, perfectly, fine, I, am, feeli...</td>\n",
       "    </tr>\n",
       "  </tbody>\n",
       "</table>\n",
       "</div>"
      ],
      "text/plain": [
       "   Name                                          Text Data depression  \\\n",
       "0   369  [[okay, awesome, thank, you], [are, you, okay,...          0   \n",
       "1   423  [[okay], [and, please], [yes], [feeling, well]...          0   \n",
       "2   436  [[that, was, big], [yes], [I'm, doing, fine], ...          0   \n",
       "3   318  [[all, right], [okay], [oh, actually, before, ...          0   \n",
       "4   447  [[yeah, that's, perfectly, fine], [I'm, feelin...          0   \n",
       "\n",
       "                                   lengths of speech  frequency of speech  \\\n",
       "0  [4, 6, 12, 1, 20, 6, 65, 1, 78, 51, 14, 47, 1,...                   61   \n",
       "1  [1, 2, 1, 2, 12, 1, 2, 4, 2, 3, 3, 6, 10, 9, 1...                  112   \n",
       "2  [3, 1, 3, 1, 7, 11, 24, 14, 29, 14, 10, 13, 5,...                   56   \n",
       "3  [2, 1, 14, 3, 1, 3, 3, 9, 5, 5, 11, 15, 1, 1, ...                   48   \n",
       "4  [4, 11, 7, 17, 12, 14, 14, 15, 85, 1, 17, 6, 3...                   61   \n",
       "\n",
       "   mean length of speech                                     flattened text  \\\n",
       "0              34.213115  [okay, awesome, thank, you, are, you, okay, wi...   \n",
       "1               9.732143  [okay, and, please, yes, feeling, well, where,...   \n",
       "2              23.250000  [that, was, big, yes, I'm, doing, fine, Mexico...   \n",
       "3              14.062500  [all, right, okay, oh, actually, before, that,...   \n",
       "4              20.590164  [yeah, that's, perfectly, fine, I'm, feeling, ...   \n",
       "\n",
       "   mean_word_length                                     tokenized_text  \\\n",
       "0          3.849545  [okay, awesome, thank, you, are, you, okay, wi...   \n",
       "1          4.326606  [okay, and, please, yes, feeling, well, where,...   \n",
       "2          4.010753  [that, was, big, yes, I, 'm, doing, fine, Mexi...   \n",
       "3          3.961481  [all, right, okay, oh, actually, before, that,...   \n",
       "4          4.042197  [yeah, that, 's, perfectly, fine, I, 'm, feeli...   \n",
       "\n",
       "                                       expanded_text  \n",
       "0  [okay, awesome, thank, you, are, you, okay, wi...  \n",
       "1  [okay, and, please, yes, feeling, well, where,...  \n",
       "2  [that, was, big, yes, I, am, doing, fine, Mexi...  \n",
       "3  [all, right, okay, oh, actually, before, that,...  \n",
       "4  [yeah, that, is, perfectly, fine, I, am, feeli...  "
      ]
     },
     "execution_count": 43,
     "metadata": {},
     "output_type": "execute_result"
    }
   ],
   "source": [
    "df_combined.head()"
   ]
  },
  {
   "cell_type": "code",
   "execution_count": 53,
   "metadata": {},
   "outputs": [
    {
     "name": "stderr",
     "output_type": "stream",
     "text": [
      "[nltk_data] Downloading package stopwords to\n",
      "[nltk_data]     /Users/martinso/nltk_data...\n",
      "[nltk_data]   Package stopwords is already up-to-date!\n"
     ]
    },
    {
     "data": {
      "image/png": "[encoded data removed]",
      "text/plain": [
       "<Figure size 720x360 with 1 Axes>"
      ]
     },
     "metadata": {
      "needs_background": "light"
     },
     "output_type": "display_data"
    }
   ],
   "source": [
    "import matplotlib.pyplot as plt\n",
    "from nltk.corpus import stopwords\n",
    "from collections import defaultdict\n",
    "import pandas as pd\n",
    "import nltk\n",
    "\n",
    "nltk.download('stopwords')\n",
    "\n",
    "# Set up stopwords\n",
    "stop = set(stopwords.words('english'))\n",
    "\n",
    "# Assuming 'expanded_text' is already a list of words per document\n",
    "# If 'expanded_text' is not a list of words, uncomment the following line:\n",
    "# df_combined['expanded_text'] = df_combined['expanded_text'].apply(lambda x: x.split())\n",
    "\n",
    "# Flatten the list of lists into a single list of words\n",
    "corpus = [word for sublist in df_combined['expanded_text'] for word in sublist]\n",
    "\n",
    "# Dictionary to count occurrences of each stopword\n",
    "dic = defaultdict(int)\n",
    "for word in corpus:\n",
    "    if word in stop:\n",
    "        dic[word] += 1\n",
    "\n",
    "# Sorting the dictionary by frequency of stopwords and getting the top 10\n",
    "top = sorted(dic.items(), key=lambda x: x[1], reverse=True)[:10]\n",
    "x, y = zip(*top)  # Unpack the top words and their counts\n",
    "\n",
    "# Plotting\n",
    "plt.figure(figsize=(10, 5))\n",
    "plt.bar(x, y)\n",
    "plt.title('Top Stopwords in Expanded Text')\n",
    "plt.ylabel('Frequency')\n",
    "plt.show()\n",
    "\n"
   ]
  },
  {
   "cell_type": "code",
   "execution_count": 56,
   "metadata": {},
   "outputs": [
    {
     "data": {
      "image/png": "[encoded data removed]",
      "text/plain": [
       "<Figure size 720x576 with 1 Axes>"
      ]
     },
     "metadata": {
      "needs_background": "light"
     },
     "output_type": "display_data"
    }
   ],
   "source": [
    "def plot_top_non_stopwords_barchart(text):\n",
    "    stop = set(stopwords.words('english'))\n",
    "    \n",
    "    # Flatten the list of lists into a single list if necessary\n",
    "    # Assuming 'text' is a list of lists of words; if not, comment out the next two lines\n",
    "    text = [word for sublist in text for word in sublist]\n",
    "    \n",
    "    counter = Counter(text)\n",
    "    most = counter.most_common()\n",
    "    x, y = [], []\n",
    "    for word, count in most[:40]:\n",
    "        if word.lower() not in stop:  # Check against stopwords using lowercased words\n",
    "            x.append(word)\n",
    "            y.append(count)\n",
    "    \n",
    "    plt.figure(figsize=(10, 8))\n",
    "    sns.barplot(x=y, y=x)\n",
    "    plt.title('Top Non-Stopwords in tokenized Text')\n",
    "    plt.xlabel('Count')\n",
    "    plt.ylabel('Words')\n",
    "    plt.show()\n",
    "\n",
    "# Apply the function to the 'expanded_text' column\n",
    "plot_top_non_stopwords_barchart(df_combined['tokenized_text'])\n"
   ]
  },
  {
   "cell_type": "code",
   "execution_count": 57,
   "metadata": {},
   "outputs": [
    {
     "data": {
      "image/png": "[encoded data removed]",
      "text/plain": [
       "<Figure size 720x576 with 1 Axes>"
      ]
     },
     "metadata": {
      "needs_background": "light"
     },
     "output_type": "display_data"
    }
   ],
   "source": [
    "def plot_top_non_stopwords_barchart(text):\n",
    "    stop = set(stopwords.words('english'))\n",
    "    \n",
    "    # Flatten the list of lists into a single list if necessary\n",
    "    # Assuming 'text' is a list of lists of words; if not, comment out the next two lines\n",
    "    text = [word for sublist in text for word in sublist]\n",
    "    \n",
    "    counter = Counter(text)\n",
    "    most = counter.most_common()\n",
    "    x, y = [], []\n",
    "    for word, count in most[:40]:\n",
    "        if word.lower() not in stop:  # Check against stopwords using lowercased words\n",
    "            x.append(word)\n",
    "            y.append(count)\n",
    "    \n",
    "    plt.figure(figsize=(10, 8))\n",
    "    sns.barplot(x=y, y=x)\n",
    "    plt.title('Top Non-Stopwords in expanded text')\n",
    "    plt.xlabel('Count')\n",
    "    plt.ylabel('Words')\n",
    "    plt.show()\n",
    "\n",
    "plot_top_non_stopwords_barchart(df_combined['expanded_text'])\n",
    "    "
   ]
  },
  {
   "attachments": {},
   "cell_type": "markdown",
   "metadata": {},
   "source": [
    "# sentiment analysis"
   ]
  },
  {
   "attachments": {},
   "cell_type": "markdown",
   "metadata": {},
   "source": [
    "1. rule-based \n",
    "https://neptune.ai/blog/sentiment-analysis-python-textblob-vs-vader-vs-flair"
   ]
  },
  {
   "cell_type": "code",
   "execution_count": 54,
   "metadata": {},
   "outputs": [
    {
     "name": "stderr",
     "output_type": "stream",
     "text": [
      "[nltk_data] Downloading package vader_lexicon to\n",
      "[nltk_data]     /Users/martinso/nltk_data...\n"
     ]
    },
    {
     "name": "stdout",
     "output_type": "stream",
     "text": [
      "                                     expanded_text_str  vader_sentiment\n",
      "0    okay awesome thank you are you okay with this ...           1.0000\n",
      "1    okay and please yes feeling well where are you...           0.9991\n",
      "2    that was big yes I am doing fine Mexico when I...           0.9988\n",
      "3    all right okay oh actually before that one thi...           0.9995\n",
      "4    yeah that is perfectly fine I am feeling great...           0.9995\n",
      "..                                                 ...              ...\n",
      "214  okay yes I am doing well I was born in Oakland...           0.9995\n",
      "215  do I still have to put my cat okay yes how ove...           0.9991\n",
      "216  bring up a virtual human that you are going to...           0.9970\n",
      "217  yes alright I was born in Los Angeles Californ...           0.2342\n",
      "218  go ahead and start a camcorder recording and t...           0.9999\n",
      "\n",
      "[219 rows x 2 columns]\n"
     ]
    }
   ],
   "source": [
    "import nltk\n",
    "nltk.download('vader_lexicon')\n",
    "\n",
    "import pandas as pd\n",
    "from nltk.sentiment import SentimentIntensityAnalyzer\n",
    "\n",
    "# Function to apply VADER and return the compound score\n",
    "def apply_vader(text):\n",
    "    sia = SentimentIntensityAnalyzer()\n",
    "    return sia.polarity_scores(text)['compound']\n",
    "\n",
    "# Assuming 'expanded_text' column is a list of words, join them into a single string per row\n",
    "df_combined['expanded_text_str'] = df_combined['expanded_text'].apply(lambda x: ' '.join(x))\n",
    "\n",
    "# Apply the VADER analysis on the joined text\n",
    "df_combined['vader_sentiment'] = df_combined['expanded_text_str'].apply(apply_vader)"
   ]
  },
  {
   "cell_type": "code",
   "execution_count": 55,
   "metadata": {},
   "outputs": [
    {
     "name": "stdout",
     "output_type": "stream",
     "text": [
      "            vader_sentiment\n",
      "depression                 \n",
      "0                  0.971945\n",
      "1                  0.920295\n"
     ]
    }
   ],
   "source": [
    "mean_vader_sentiment = df_combined.groupby('depression')[['vader_sentiment']].mean()\n",
    "\n",
    "print(mean_vader_sentiment)"
   ]
  },
  {
   "attachments": {},
   "cell_type": "markdown",
   "metadata": {},
   "source": [
    "2. embedding model "
   ]
  },
  {
   "cell_type": "code",
   "execution_count": 63,
   "metadata": {},
   "outputs": [
    {
     "ename": "NameError",
     "evalue": "name '_C' is not defined",
     "output_type": "error",
     "traceback": [
      "\u001b[0;31m---------------------------------------------------------------------------\u001b[0m",
      "\u001b[0;31mNameError\u001b[0m                                 Traceback (most recent call last)",
      "\u001b[0;32m<ipython-input-63-4fcdf25c1a52>\u001b[0m in \u001b[0;36m<module>\u001b[0;34m\u001b[0m\n\u001b[0;32m----> 1\u001b[0;31m \u001b[0;32mimport\u001b[0m \u001b[0mflair\u001b[0m\u001b[0;34m\u001b[0m\u001b[0;34m\u001b[0m\u001b[0m\n\u001b[0m\u001b[1;32m      2\u001b[0m \u001b[0;32mfrom\u001b[0m \u001b[0mflair\u001b[0m\u001b[0;34m.\u001b[0m\u001b[0mmodels\u001b[0m \u001b[0;32mimport\u001b[0m \u001b[0mTextClassifier\u001b[0m\u001b[0;34m\u001b[0m\u001b[0;34m\u001b[0m\u001b[0m\n\u001b[1;32m      3\u001b[0m \u001b[0;32mfrom\u001b[0m \u001b[0mflair\u001b[0m\u001b[0;34m.\u001b[0m\u001b[0mdata\u001b[0m \u001b[0;32mimport\u001b[0m \u001b[0mSentence\u001b[0m\u001b[0;34m\u001b[0m\u001b[0;34m\u001b[0m\u001b[0m\n\u001b[1;32m      4\u001b[0m \u001b[0;34m\u001b[0m\u001b[0m\n\u001b[1;32m      5\u001b[0m \u001b[0;31m# Load the sentiment classifier\u001b[0m\u001b[0;34m\u001b[0m\u001b[0;34m\u001b[0m\u001b[0;34m\u001b[0m\u001b[0m\n",
      "\u001b[0;32m~/opt/anaconda3/lib/python3.8/site-packages/flair/__init__.py\u001b[0m in \u001b[0;36m<module>\u001b[0;34m\u001b[0m\n\u001b[1;32m      3\u001b[0m \u001b[0;32mfrom\u001b[0m \u001b[0mpathlib\u001b[0m \u001b[0;32mimport\u001b[0m \u001b[0mPath\u001b[0m\u001b[0;34m\u001b[0m\u001b[0;34m\u001b[0m\u001b[0m\n\u001b[1;32m      4\u001b[0m \u001b[0;34m\u001b[0m\u001b[0m\n\u001b[0;32m----> 5\u001b[0;31m \u001b[0;32mimport\u001b[0m \u001b[0mtorch\u001b[0m\u001b[0;34m\u001b[0m\u001b[0;34m\u001b[0m\u001b[0m\n\u001b[0m\u001b[1;32m      6\u001b[0m \u001b[0;32mfrom\u001b[0m \u001b[0mtransformers\u001b[0m \u001b[0;32mimport\u001b[0m \u001b[0mset_seed\u001b[0m \u001b[0;32mas\u001b[0m \u001b[0mhf_set_seed\u001b[0m\u001b[0;34m\u001b[0m\u001b[0;34m\u001b[0m\u001b[0m\n\u001b[1;32m      7\u001b[0m \u001b[0;34m\u001b[0m\u001b[0m\n",
      "\u001b[0;32m~/opt/anaconda3/lib/python3.8/site-packages/torch/__init__.py\u001b[0m in \u001b[0;36m<module>\u001b[0;34m\u001b[0m\n\u001b[1;32m    531\u001b[0m     \u001b[0;32mraise\u001b[0m  \u001b[0;31m# If __file__ is not None the cause is unknown, so just re-raise.\u001b[0m\u001b[0;34m\u001b[0m\u001b[0;34m\u001b[0m\u001b[0m\n\u001b[1;32m    532\u001b[0m \u001b[0;34m\u001b[0m\u001b[0m\n\u001b[0;32m--> 533\u001b[0;31m \u001b[0;32mfor\u001b[0m \u001b[0mname\u001b[0m \u001b[0;32min\u001b[0m \u001b[0mdir\u001b[0m\u001b[0;34m(\u001b[0m\u001b[0m_C\u001b[0m\u001b[0;34m)\u001b[0m\u001b[0;34m:\u001b[0m\u001b[0;34m\u001b[0m\u001b[0;34m\u001b[0m\u001b[0m\n\u001b[0m\u001b[1;32m    534\u001b[0m     \u001b[0;32mif\u001b[0m \u001b[0mname\u001b[0m\u001b[0;34m[\u001b[0m\u001b[0;36m0\u001b[0m\u001b[0;34m]\u001b[0m \u001b[0;34m!=\u001b[0m \u001b[0;34m'_'\u001b[0m \u001b[0;32mand\u001b[0m \u001b[0;32mnot\u001b[0m \u001b[0mname\u001b[0m\u001b[0;34m.\u001b[0m\u001b[0mendswith\u001b[0m\u001b[0;34m(\u001b[0m\u001b[0;34m'Base'\u001b[0m\u001b[0;34m)\u001b[0m\u001b[0;34m:\u001b[0m\u001b[0;34m\u001b[0m\u001b[0;34m\u001b[0m\u001b[0m\n\u001b[1;32m    535\u001b[0m         \u001b[0m__all__\u001b[0m\u001b[0;34m.\u001b[0m\u001b[0mappend\u001b[0m\u001b[0;34m(\u001b[0m\u001b[0mname\u001b[0m\u001b[0;34m)\u001b[0m\u001b[0;34m\u001b[0m\u001b[0;34m\u001b[0m\u001b[0m\n",
      "\u001b[0;31mNameError\u001b[0m: name '_C' is not defined"
     ]
    }
   ],
   "source": [
    "import flair\n",
    "from flair.models import TextClassifier\n",
    "from flair.data import Sentence\n",
    "\n",
    "# Load the sentiment classifier\n",
    "classifier = TextClassifier.load('en-sentiment')\n",
    "\n",
    "def flair_sentiment(text):\n",
    "    # Make sure text is a string\n",
    "    sentence = Sentence(text)\n",
    "    classifier.predict(sentence)\n",
    "    # Flair outputs labels with additional information, extracting sentiment and score\n",
    "    return sentence.labels[0].value, sentence.labels[0].score\n",
    "\n",
    "df_combined['flair_sentiment'], df_combined['flair_score'] = zip(*df_combined['expanded_text_str'].apply(flair_sentiment))\n",
    "\n",
    "# View the DataFrame to see the added sentiment analysis results\n",
    "print(df_combined[['expanded_text_str', 'flair_sentiment', 'flair_score']])"
   ]
  },
  {
   "cell_type": "code",
   "execution_count": 65,
   "metadata": {},
   "outputs": [
    {
     "ename": "NameError",
     "evalue": "name '_C' is not defined",
     "output_type": "error",
     "traceback": [
      "\u001b[0;31m---------------------------------------------------------------------------\u001b[0m",
      "\u001b[0;31mNameError\u001b[0m                                 Traceback (most recent call last)",
      "\u001b[0;32m<ipython-input-65-beb55f24d5ec>\u001b[0m in \u001b[0;36m<module>\u001b[0;34m\u001b[0m\n\u001b[0;32m----> 1\u001b[0;31m \u001b[0;32mimport\u001b[0m \u001b[0mtorch\u001b[0m\u001b[0;34m\u001b[0m\u001b[0;34m\u001b[0m\u001b[0m\n\u001b[0m\u001b[1;32m      2\u001b[0m \u001b[0mprint\u001b[0m\u001b[0;34m(\u001b[0m\u001b[0mtorch\u001b[0m\u001b[0;34m.\u001b[0m\u001b[0m__version__\u001b[0m\u001b[0;34m)\u001b[0m\u001b[0;34m\u001b[0m\u001b[0;34m\u001b[0m\u001b[0m\n",
      "\u001b[0;32m~/opt/anaconda3/lib/python3.8/site-packages/torch/__init__.py\u001b[0m in \u001b[0;36m<module>\u001b[0;34m\u001b[0m\n\u001b[1;32m    531\u001b[0m     \u001b[0;32mraise\u001b[0m  \u001b[0;31m# If __file__ is not None the cause is unknown, so just re-raise.\u001b[0m\u001b[0;34m\u001b[0m\u001b[0;34m\u001b[0m\u001b[0m\n\u001b[1;32m    532\u001b[0m \u001b[0;34m\u001b[0m\u001b[0m\n\u001b[0;32m--> 533\u001b[0;31m \u001b[0;32mfor\u001b[0m \u001b[0mname\u001b[0m \u001b[0;32min\u001b[0m \u001b[0mdir\u001b[0m\u001b[0;34m(\u001b[0m\u001b[0m_C\u001b[0m\u001b[0;34m)\u001b[0m\u001b[0;34m:\u001b[0m\u001b[0;34m\u001b[0m\u001b[0;34m\u001b[0m\u001b[0m\n\u001b[0m\u001b[1;32m    534\u001b[0m     \u001b[0;32mif\u001b[0m \u001b[0mname\u001b[0m\u001b[0;34m[\u001b[0m\u001b[0;36m0\u001b[0m\u001b[0;34m]\u001b[0m \u001b[0;34m!=\u001b[0m \u001b[0;34m'_'\u001b[0m \u001b[0;32mand\u001b[0m \u001b[0;32mnot\u001b[0m \u001b[0mname\u001b[0m\u001b[0;34m.\u001b[0m\u001b[0mendswith\u001b[0m\u001b[0;34m(\u001b[0m\u001b[0;34m'Base'\u001b[0m\u001b[0;34m)\u001b[0m\u001b[0;34m:\u001b[0m\u001b[0;34m\u001b[0m\u001b[0;34m\u001b[0m\u001b[0m\n\u001b[1;32m    535\u001b[0m         \u001b[0m__all__\u001b[0m\u001b[0;34m.\u001b[0m\u001b[0mappend\u001b[0m\u001b[0;34m(\u001b[0m\u001b[0mname\u001b[0m\u001b[0;34m)\u001b[0m\u001b[0;34m\u001b[0m\u001b[0;34m\u001b[0m\u001b[0m\n",
      "\u001b[0;31mNameError\u001b[0m: name '_C' is not defined"
     ]
    }
   ],
   "source": [
    "import torch\n",
    "print(torch.__version__)"
   ]
  }
 ],
 "metadata": {
  "kernelspec": {
   "display_name": "Python 3",
   "language": "python",
   "name": "python3"
  },
  "language_info": {
   "codemirror_mode": {
    "name": "ipython",
    "version": 3
   },
   "file_extension": ".py",
   "mimetype": "text/x-python",
   "name": "python",
   "nbconvert_exporter": "python",
   "pygments_lexer": "ipython3",
   "version": "3.8.5"
  },
  "orig_nbformat": 4
 },
 "nbformat": 4,
 "nbformat_minor": 2
}
